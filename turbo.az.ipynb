{
 "cells": [
  {
   "cell_type": "code",
   "execution_count": 1,
   "metadata": {},
   "outputs": [],
   "source": [
    "from bs4 import BeautifulSoup as bs\n",
    "import requests\n",
    "import pandas as pd"
   ]
  },
  {
   "cell_type": "code",
   "execution_count": 2,
   "metadata": {},
   "outputs": [
    {
     "data": {
      "text/html": [
       "<style>.container { width:100% !important; }</style>"
      ],
      "text/plain": [
       "<IPython.core.display.HTML object>"
      ]
     },
     "metadata": {},
     "output_type": "display_data"
    }
   ],
   "source": [
    "from IPython.core.display import display, HTML\n",
    "display(HTML(\"<style>.container { width:100% !important; }</style>\"))"
   ]
  },
  {
   "cell_type": "code",
   "execution_count": 3,
   "metadata": {},
   "outputs": [],
   "source": [
    "response = requests.get('https://turbo.az')"
   ]
  },
  {
   "cell_type": "code",
   "execution_count": 4,
   "metadata": {
    "scrolled": false
   },
   "outputs": [],
   "source": [
    "soup = bs(response.content, 'html.parser')"
   ]
  },
  {
   "cell_type": "markdown",
   "metadata": {},
   "source": [
    "## Avtomobil markalarının siyahısı hazırlanır"
   ]
  },
  {
   "cell_type": "code",
   "execution_count": 5,
   "metadata": {
    "scrolled": false
   },
   "outputs": [],
   "source": [
    "car = soup.find_all(id='q_make')\n",
    "car_list = car[0].text.split('\\n')[1:] # Avtomobil markalarının listi\n",
    "#currency = soup.find_all(id='q_currency')\n",
    "#currency_list = currency[0].text.split('\\n') # Valyuta növlərinin listi\"\"\"\n",
    "#region = soup.find_all(id='q_region')\n",
    "#region_list = region[0].text.split('\\n')[1:] # Şəhər və rayonların listi\n",
    "#model = soup.find_all(id='q_model')\n",
    "#model_list = model[0].text.split('\\n')[1:] # Avtomobil modellərinin listi"
   ]
  },
  {
   "cell_type": "markdown",
   "metadata": {},
   "source": [
    "## Saytdakı və hər gün əlavə olunan elanların sayı"
   ]
  },
  {
   "cell_type": "code",
   "execution_count": 6,
   "metadata": {},
   "outputs": [],
   "source": [
    "info = soup.find_all(class_='ad-count--animation')\n",
    "total = int(info[0].text.split()[0]) # Saytda olan bütün maşınların sayı\n",
    "new = int(info[1].text.split()[1]) # Sayta hərgün əlavə olunan elanların sayı"
   ]
  },
  {
   "cell_type": "markdown",
   "metadata": {},
   "source": [
    "## Avtomobillərin adları öz sıra nömrələri ilə uyğunlaşdırılır"
   ]
  },
  {
   "cell_type": "code",
   "execution_count": 7,
   "metadata": {
    "scrolled": false
   },
   "outputs": [],
   "source": [
    "value_list = [] # Hər bir avtomobil markasına uyğun gələn sıra nömrələrinin listi\n",
    "car_dict = {} # Hər bir avtomobil markasına müvafiq sıra nömrəsi\n",
    "for option in soup.find_all('option')[1:]:\n",
    "    if option['value'] != 'azn':\n",
    "        car_dict[option.text] = option['value']\n",
    "        value_list.append(option['value'])\n",
    "    else:\n",
    "        break"
   ]
  },
  {
   "cell_type": "markdown",
   "metadata": {},
   "source": [
    "## Hər bir avtmobilin URL-i"
   ]
  },
  {
   "cell_type": "code",
   "execution_count": 8,
   "metadata": {
    "scrolled": true
   },
   "outputs": [],
   "source": [
    "url_list = []\n",
    "for c in car_dict:\n",
    "    url = 'https://turbo.az/autos?utf8=✓&q%5Bmake%5D%5B%5D='+ car_dict[c] +'&q%5Bcurrency%5D=azn&q%5Bprice_from%5D=&q%5Bprice_to%5D=&q%5Bloan%5D=0&q%5Bregion%5D%5B%5D=&commit=&q%5Bmodel%5D%5B%5D=&q%5Byear_from%5D=&q%5Byear_to%5D=&q%5Bbarter%5D=0&q%5Bsort%5D='\n",
    "    car_dict[c] = url\n",
    "    url_list.append(url)"
   ]
  },
  {
   "cell_type": "markdown",
   "metadata": {},
   "source": [
    "# DataFrame yaradılır və ilkin məlumatlar əlavə olunur"
   ]
  },
  {
   "cell_type": "code",
   "execution_count": 9,
   "metadata": {},
   "outputs": [],
   "source": [
    "turbo = pd.DataFrame()\n",
    "turbo['Firma'] = car_list\n",
    "turbo['ID'] = value_list\n",
    "#turbo['URL'] = url_list"
   ]
  },
  {
   "cell_type": "markdown",
   "metadata": {},
   "source": [
    "## Model sayı"
   ]
  },
  {
   "cell_type": "code",
   "execution_count": 10,
   "metadata": {
    "scrolled": false
   },
   "outputs": [],
   "source": [
    "model_num = [] # Hər bi avtomobil markasının modellərinin sayı\n",
    "for v in value_list:\n",
    "    model = soup.find_all(class_=v)\n",
    "    m_list = []\n",
    "    for m in model[0:]:\n",
    "        m_list.append(m.text)\n",
    "        num = len(m_list)\n",
    "    model_num.append(num)\n",
    "turbo['Model sayı'] = model_num"
   ]
  },
  {
   "cell_type": "markdown",
   "metadata": {},
   "source": [
    "## Markalar üzrə elan sayı"
   ]
  },
  {
   "cell_type": "code",
   "execution_count": 11,
   "metadata": {
    "scrolled": false
   },
   "outputs": [],
   "source": [
    "elan_list = []\n",
    "for u in url_list:\n",
    "    response = requests.get(u)\n",
    "    soup = bs(response.content, 'html.parser')\n",
    "    elan = soup.find_all(class_=\"products-title-amount\")\n",
    "    elan_num = int(elan[0].text.split()[0])\n",
    "    elan_list.append(elan_num)\n",
    "turbo['Elan sayı'] = elan_list"
   ]
  },
  {
   "cell_type": "code",
   "execution_count": 12,
   "metadata": {},
   "outputs": [
    {
     "data": {
      "text/plain": [
       "\"url1 = 'https://turbo.az/autos?utf8=✓&q%5Bmake%5D%5B%5D='\\nurl2 = '&q%5Bcurrency%5D=azn&q%5Bprice_from%5D=&q%5Bprice_to%5D=&q%5Bloan%5D=0&q%5Bregion%5D%5B%5D=&commit=&q%5Bmodel%5D%5B%5D=&q%5Byear_from%5D=&q%5Byear_to%5D=&q%5Bbarter%5D=0&q%5Bsort%5D='\\nturbo['URL'] = url1 + turbo['ID'] + url2\""
      ]
     },
     "execution_count": 12,
     "metadata": {},
     "output_type": "execute_result"
    }
   ],
   "source": [
    "\"\"\"url1 = 'https://turbo.az/autos?utf8=✓&q%5Bmake%5D%5B%5D='\n",
    "url2 = '&q%5Bcurrency%5D=azn&q%5Bprice_from%5D=&q%5Bprice_to%5D=&q%5Bloan%5D=0&q%5Bregion%5D%5B%5D=&commit=&q%5Bmodel%5D%5B%5D=&q%5Byear_from%5D=&q%5Byear_to%5D=&q%5Bbarter%5D=0&q%5Bsort%5D='\n",
    "turbo['URL'] = url1 + turbo['ID'] + url2\"\"\""
   ]
  },
  {
   "cell_type": "code",
   "execution_count": 13,
   "metadata": {},
   "outputs": [
    {
     "data": {
      "text/html": [
       "<div>\n",
       "<style scoped>\n",
       "    .dataframe tbody tr th:only-of-type {\n",
       "        vertical-align: middle;\n",
       "    }\n",
       "\n",
       "    .dataframe tbody tr th {\n",
       "        vertical-align: top;\n",
       "    }\n",
       "\n",
       "    .dataframe thead th {\n",
       "        text-align: right;\n",
       "    }\n",
       "</style>\n",
       "<table border=\"1\" class=\"dataframe\">\n",
       "  <thead>\n",
       "    <tr style=\"text-align: right;\">\n",
       "      <th></th>\n",
       "      <th>Firma</th>\n",
       "      <th>ID</th>\n",
       "      <th>Model sayı</th>\n",
       "      <th>Elan sayı</th>\n",
       "    </tr>\n",
       "  </thead>\n",
       "  <tbody>\n",
       "    <tr>\n",
       "      <td>84</td>\n",
       "      <td>Mercedes</td>\n",
       "      <td>4</td>\n",
       "      <td>260</td>\n",
       "      <td>6252</td>\n",
       "    </tr>\n",
       "    <tr>\n",
       "      <td>70</td>\n",
       "      <td>LADA (VAZ)</td>\n",
       "      <td>5</td>\n",
       "      <td>33</td>\n",
       "      <td>4889</td>\n",
       "    </tr>\n",
       "    <tr>\n",
       "      <td>50</td>\n",
       "      <td>Hyundai</td>\n",
       "      <td>1</td>\n",
       "      <td>37</td>\n",
       "      <td>2267</td>\n",
       "    </tr>\n",
       "    <tr>\n",
       "      <td>95</td>\n",
       "      <td>Opel</td>\n",
       "      <td>29</td>\n",
       "      <td>19</td>\n",
       "      <td>1726</td>\n",
       "    </tr>\n",
       "    <tr>\n",
       "      <td>118</td>\n",
       "      <td>Toyota</td>\n",
       "      <td>23</td>\n",
       "      <td>32</td>\n",
       "      <td>1571</td>\n",
       "    </tr>\n",
       "    <tr>\n",
       "      <td>10</td>\n",
       "      <td>BMW</td>\n",
       "      <td>3</td>\n",
       "      <td>59</td>\n",
       "      <td>1363</td>\n",
       "    </tr>\n",
       "    <tr>\n",
       "      <td>65</td>\n",
       "      <td>Kia</td>\n",
       "      <td>8</td>\n",
       "      <td>31</td>\n",
       "      <td>1341</td>\n",
       "    </tr>\n",
       "    <tr>\n",
       "      <td>20</td>\n",
       "      <td>Chevrolet</td>\n",
       "      <td>41</td>\n",
       "      <td>23</td>\n",
       "      <td>961</td>\n",
       "    </tr>\n",
       "    <tr>\n",
       "      <td>35</td>\n",
       "      <td>Ford</td>\n",
       "      <td>2</td>\n",
       "      <td>24</td>\n",
       "      <td>936</td>\n",
       "    </tr>\n",
       "    <tr>\n",
       "      <td>94</td>\n",
       "      <td>Nissan</td>\n",
       "      <td>7</td>\n",
       "      <td>30</td>\n",
       "      <td>803</td>\n",
       "    </tr>\n",
       "  </tbody>\n",
       "</table>\n",
       "</div>"
      ],
      "text/plain": [
       "          Firma  ID  Model sayı  Elan sayı\n",
       "84     Mercedes   4         260       6252\n",
       "70   LADA (VAZ)   5          33       4889\n",
       "50      Hyundai   1          37       2267\n",
       "95         Opel  29          19       1726\n",
       "118      Toyota  23          32       1571\n",
       "10          BMW   3          59       1363\n",
       "65          Kia   8          31       1341\n",
       "20    Chevrolet  41          23        961\n",
       "35         Ford   2          24        936\n",
       "94       Nissan   7          30        803"
      ]
     },
     "execution_count": 13,
     "metadata": {},
     "output_type": "execute_result"
    }
   ],
   "source": [
    "turbo.sort_values('Elan sayı', ascending=False).head(10)"
   ]
  },
  {
   "cell_type": "code",
   "execution_count": null,
   "metadata": {},
   "outputs": [],
   "source": []
  }
 ],
 "metadata": {
  "kernelspec": {
   "display_name": "Python 3",
   "language": "python",
   "name": "python3"
  },
  "language_info": {
   "codemirror_mode": {
    "name": "ipython",
    "version": 3
   },
   "file_extension": ".py",
   "mimetype": "text/x-python",
   "name": "python",
   "nbconvert_exporter": "python",
   "pygments_lexer": "ipython3",
   "version": "3.7.4"
  }
 },
 "nbformat": 4,
 "nbformat_minor": 2
}
